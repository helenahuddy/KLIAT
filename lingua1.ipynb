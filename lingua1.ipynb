{
 "cells": [
  {
   "cell_type": "code",
   "execution_count": 368,
   "metadata": {
    "collapsed": false
   },
   "outputs": [],
   "source": [
    "import pandas as pd\n",
    "import pymorphy2\n",
    "import string\n",
    "from string import digits\n",
    "morph = pymorphy2.MorphAnalyzer()\n",
    "f = open('Flowers.txt')\n",
    "text=f.read()\n",
    "f.close()"
   ]
  },
  {
   "cell_type": "code",
   "execution_count": 1,
   "metadata": {
    "collapsed": false
   },
   "outputs": [],
   "source": [
    "\"\"\"\"\n",
    "Функция, парсящая текст и выдающая \n",
    "результатом список, каждыйы элемент которого - список для каждого слова возможных нормальных форм с максимальными значениями score\n",
    "\"\"\"\"\"\n",
    "def f_tokenizer(s):\n",
    "    morph = pymorphy2.MorphAnalyzer()\n",
    "    exclude = set(string.punctuation)\n",
    "    s = ''.join(ch for ch in s if ch not in exclude)\n",
    "    remove_digits = str.maketrans('', '', digits)\n",
    "    s = s.translate(remove_digits)\n",
    "    t = s.split()\n",
    "    f = []\n",
    "    b=[]\n",
    "    for j in t:\n",
    "        a=[]\n",
    "        mlen = len(morph.parse(j.replace('.','')))\n",
    "        for k in range(mlen):\n",
    "            amin=morph.parse(j.replace('.',''))[0].score\n",
    "            amin_all=amin\n",
    "            m = morph.parse(j.replace('.',''))[k].normal_form\n",
    "            if (morph.parse(j.replace('.',''))[k].score)>=amin :\n",
    "                a.append(m)\n",
    "        a.append(amin)\n",
    "        f.append(a)\n",
    "    return f"
   ]
  },
  {
   "cell_type": "code",
   "execution_count": null,
   "metadata": {
    "collapsed": true
   },
   "outputs": [],
   "source": [
    "f_tokenizer"
   ]
  },
  {
   "cell_type": "code",
   "execution_count": 365,
   "metadata": {
    "collapsed": false
   },
   "outputs": [
    {
     "data": {
      "text/plain": [
       "0.7950274708590461"
      ]
     },
     "execution_count": 365,
     "metadata": {},
     "output_type": "execute_result"
    }
   ],
   "source": [
    "# сравнение с оригиналом с правильными весами\n",
    "pr=0\n",
    "original=f_tokenizer(text)\n",
    "for i in range(len(ideal)-1):\n",
    "    if ideal[i] in original[i]:\n",
    "        pr+=original[i].count(ideal[i])*original[i][-1]\n",
    "pr/len(ideal)"
   ]
  },
  {
   "cell_type": "code",
   "execution_count": 397,
   "metadata": {
    "collapsed": false
   },
   "outputs": [
    {
     "ename": "TypeError",
     "evalue": "'list' object is not callable",
     "output_type": "error",
     "traceback": [
      "\u001b[0;31m---------------------------------------------------------------------------\u001b[0m",
      "\u001b[0;31mTypeError\u001b[0m                                 Traceback (most recent call last)",
      "\u001b[0;32m<ipython-input-397-3051b1e95ed9>\u001b[0m in \u001b[0;36m<module>\u001b[0;34m()\u001b[0m\n\u001b[1;32m      2\u001b[0m \u001b[0mtext2\u001b[0m\u001b[0;34m=\u001b[0m\u001b[0mpd\u001b[0m\u001b[0;34m.\u001b[0m\u001b[0mread_csv\u001b[0m\u001b[0;34m(\u001b[0m\u001b[0;34m\"textright.txt\"\u001b[0m\u001b[0;34m,\u001b[0m\u001b[0mdelim_whitespace\u001b[0m\u001b[0;34m=\u001b[0m\u001b[0;32mTrue\u001b[0m\u001b[0;34m)\u001b[0m\u001b[0;34m\u001b[0m\u001b[0m\n\u001b[1;32m      3\u001b[0m \u001b[0ma\u001b[0m\u001b[0;34m=\u001b[0m\u001b[0mtext2\u001b[0m\u001b[0;34m[\u001b[0m\u001b[0;34m(\u001b[0m\u001b[0mtext2\u001b[0m\u001b[0;34m.\u001b[0m\u001b[0mLemma_GS2\u001b[0m\u001b[0;34m!=\u001b[0m\u001b[0;34m'OFF'\u001b[0m\u001b[0;34m)\u001b[0m\u001b[0;34m&\u001b[0m\u001b[0;34m(\u001b[0m\u001b[0mpd\u001b[0m\u001b[0;34m.\u001b[0m\u001b[0misnull\u001b[0m\u001b[0;34m(\u001b[0m\u001b[0mtext2\u001b[0m\u001b[0;34m.\u001b[0m\u001b[0mLemma_GS2\u001b[0m\u001b[0;34m)\u001b[0m\u001b[0;34m==\u001b[0m\u001b[0;32mFalse\u001b[0m\u001b[0;34m)\u001b[0m\u001b[0;34m]\u001b[0m\u001b[0;34m[\u001b[0m\u001b[0;34m'Lemma_GS2'\u001b[0m\u001b[0;34m]\u001b[0m\u001b[0;34m\u001b[0m\u001b[0m\n\u001b[0;32m----> 4\u001b[0;31m \u001b[0mtext_no_trash\u001b[0m \u001b[0;34m=\u001b[0m \u001b[0mlist\u001b[0m\u001b[0;34m(\u001b[0m\u001b[0ma\u001b[0m\u001b[0;34m)\u001b[0m\u001b[0;34m\u001b[0m\u001b[0m\n\u001b[0m\u001b[1;32m      5\u001b[0m \u001b[0mideal\u001b[0m\u001b[0;34m=\u001b[0m\u001b[0mtext_no_trash\u001b[0m\u001b[0;34m\u001b[0m\u001b[0m\n",
      "\u001b[0;31mTypeError\u001b[0m: 'list' object is not callable"
     ]
    }
   ],
   "source": [
    "#Считываем оригинал, выбрасывая знаки препинания и цифры\n",
    "text2=pd.read_csv(\"textright.txt\",delim_whitespace=True)\n",
    "text_no_trash = list(text2[(text2.Lemma_GS2!='OFF')&(pd.isnull(text2.Lemma_GS2)==False)]['Lemma_GS2'])\n",
    "ideal=text_no_trash"
   ]
  },
  {
   "cell_type": "code",
   "execution_count": 395,
   "metadata": {
    "collapsed": false
   },
   "outputs": [
    {
     "name": "stdout",
     "output_type": "stream",
     "text": [
      "0.69996150298756 0.9036144578313253\n"
     ]
    }
   ],
   "source": [
    "#Сравнение с оригиналом с тривиальными весами\n",
    "acc=0\n",
    "acc_is=0\n",
    "for char in range(len(ideal)-1):\n",
    "    if ideal[char] in original[char]:\n",
    "        acc+=1*original[char][-1]\n",
    "        acc_is+=1\n",
    "print (acc/len(ideal), acc_is/len(ideal))"
   ]
  },
  {
   "cell_type": "code",
   "execution_count": null,
   "metadata": {
    "collapsed": true
   },
   "outputs": [],
   "source": [
    "2+2\n"
   ]
  },
  {
   "cell_type": "code",
   "execution_count": null,
   "metadata": {
    "collapsed": true
   },
   "outputs": [],
   "source": []
  }
 ],
 "metadata": {
  "anaconda-cloud": {},
  "kernelspec": {
   "display_name": "Python [default]",
   "language": "python",
   "name": "python3"
  },
  "language_info": {
   "codemirror_mode": {
    "name": "ipython",
    "version": 3
   },
   "file_extension": ".py",
   "mimetype": "text/x-python",
   "name": "python",
   "nbconvert_exporter": "python",
   "pygments_lexer": "ipython3",
   "version": "3.5.2"
  }
 },
 "nbformat": 4,
 "nbformat_minor": 1
}
