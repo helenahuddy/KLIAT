{
 "cells": [
  {
   "cell_type": "code",
   "execution_count": 1,
   "metadata": {
    "collapsed": true
   },
   "outputs": [],
   "source": [
    "import pandas as pd\n",
    "import pymorphy2\n",
    "import string\n",
    "from string import digits\n",
    "morph = pymorphy2.MorphAnalyzer()"
   ]
  },
  {
   "cell_type": "code",
   "execution_count": 2,
   "metadata": {
    "collapsed": true
   },
   "outputs": [],
   "source": [
    "file=open('Harms.txt')\n",
    "cont=file.read()\n",
    "file.close()"
   ]
  },
  {
   "cell_type": "code",
   "execution_count": 21,
   "metadata": {
    "collapsed": false
   },
   "outputs": [
    {
     "data": {
      "text/plain": [
       "'Калугин заснул и увидел сон, будто он сидит в кустах, а мимо кустов проходит милиционер.\\n\\nКалугин проснулся, почесал рот и опять заснул, и опять увидел сон, будто он идёт мимо кустов, а в кустах притаился и сидит милиционер.\\n\\nКалугин проснулся, подложил под голову газету, чтобы не мочить слюнями подушку, и опять заснул, и опять увидел сон, будто он сидит в кустах, а мимо кустов проходит милиционер.\\n\\nКалугин проснулся, переменил газету, лёг и заснул опять. Заснул и опять увидел сон, будто он идёт мимо кустов, а в кустах сидит милиционер.\\n\\nТут Калугин проснулся и решил больше не спать, но моментально заснул и увидел сон, будто он сидит за милиционером, а мимо проходят кусты.\\n\\nКалугин закричал и заметался в кровати, но проснуться уже не мог.\\n\\nКалугин спал четыре дня и четыре ночи подряд и на пятый день проснулся таким тощим, что сапоги пришлось подвязывать к ногам верёвочкой, чтобы они не сваливались. В булочной, где Калугин всегда покупал пшеничный хлеб, его не узнали и подсунули ему полуржаной. А санитарная комиссия, ходя по квартирам и увидя Калугина, нашла его антисанитарным и никуда не годным и приказала жакту выкинуть Калугина вместе с сором.\\n\\nКалугина сложили пополам и выкинули его как сор.  \\n\\n'"
      ]
     },
     "execution_count": 21,
     "metadata": {},
     "output_type": "execute_result"
    }
   ],
   "source": [
    "cont"
   ]
  },
  {
   "cell_type": "code",
   "execution_count": 29,
   "metadata": {
    "collapsed": false
   },
   "outputs": [],
   "source": [
    "#Делим текст на отдельные составляющие\n",
    "def f_tokenizer(s):\n",
    "    morph = pymorphy2.MorphAnalyzer()\n",
    "    exclude = set(string.punctuation)\n",
    "    s = ''.join(ch for ch in s if ch not in exclude)\n",
    "    remove_digits = str.maketrans('', '', digits)\n",
    "    s = s.translate(remove_digits)\n",
    "    t = s.split()\n",
    "    \n",
    "    return t"
   ]
  },
  {
   "cell_type": "code",
   "execution_count": 28,
   "metadata": {
    "collapsed": false
   },
   "outputs": [],
   "source": [
    "#Определяем части речи каждого слова\n",
    "def POS(list):\n",
    "    a=[]\n",
    "    for i in list:\n",
    "        a.append(morph.parse(i)[0].tag.POS)\n",
    "    return a\n",
    "#Составляем словарь частей речи\n",
    "dictionary=dict (zip(f_tokenizer(cont),POS(f_tokenizer(cont))))\n"
   ]
  },
  {
   "cell_type": "code",
   "execution_count": 27,
   "metadata": {
    "collapsed": false
   },
   "outputs": [],
   "source": [
    "#Ищем n-граммы\n",
    "def find_ngrams(input_list, n):\n",
    "    return list(zip(*[input_list[i:] for i in range(n)]))"
   ]
  },
  {
   "cell_type": "code",
   "execution_count": 16,
   "metadata": {
    "collapsed": true
   },
   "outputs": [],
   "source": [
    "word='Калугин'"
   ]
  },
  {
   "cell_type": "code",
   "execution_count": 26,
   "metadata": {
    "collapsed": false
   },
   "outputs": [],
   "source": [
    "bigrams=find_ngrams(f_tokenizer(cont), 2)"
   ]
  },
  {
   "cell_type": "code",
   "execution_count": 30,
   "metadata": {
    "collapsed": false
   },
   "outputs": [],
   "source": [
    "#Среди биграмм ищем словосочетания интересующего типа\n",
    "def find_colloc(bigrams):\n",
    "    colloc=[]\n",
    "    for i in bigrams:\n",
    "        if dictionary[i[0]]=='NOUN' and dictionary[i[1]]=='VERB' and i[0]==word:\n",
    "            colloc.append(i)\n",
    "    return colloc\n",
    "    "
   ]
  },
  {
   "cell_type": "code",
   "execution_count": null,
   "metadata": {
    "collapsed": true
   },
   "outputs": [],
   "source": []
  }
 ],
 "metadata": {
  "anaconda-cloud": {},
  "kernelspec": {
   "display_name": "Python [default]",
   "language": "python",
   "name": "python3"
  },
  "language_info": {
   "codemirror_mode": {
    "name": "ipython",
    "version": 3
   },
   "file_extension": ".py",
   "mimetype": "text/x-python",
   "name": "python",
   "nbconvert_exporter": "python",
   "pygments_lexer": "ipython3",
   "version": "3.5.2"
  }
 },
 "nbformat": 4,
 "nbformat_minor": 1
}
