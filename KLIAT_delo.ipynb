{
 "cells": [
  {
   "cell_type": "markdown",
   "metadata": {},
   "source": [
    "Для анализа были выбраны три романа Л.Н.Толстого - все тома \"Войны и мира\", \"Воскресение\" и \"Анна Каренина\". \n",
    "\n",
    "  В качестве частотного слова русского языка я решила вять слово \"дело\", так как оно часто в употреблении - может, в те времена даже больше, чем сейчас; к тому же используется во всех охватываемых автором сословиях: \"дело\" может быть юридическим термином, бытовым или даже военным. Сперва анализ проводится для леммы \"дело\", то есть без учёта конкретной словоформы, затем - для формы \"дел\" (мне показалось, что таким образом отсеятся некоторые бытовые значения/выражения по типу \"не твоё дело\" и т.п.).\n",
    "  \n",
    "  Использованные меры ассоциации - коэффицент взаимной информации и t-score."
   ]
  },
  {
   "cell_type": "code",
   "execution_count": 19,
   "metadata": {
    "collapsed": false
   },
   "outputs": [],
   "source": [
    "import requests\n",
    "import html5lib\n",
    "import subprocess\n",
    "import codecs\n",
    "import pickle\n",
    "import string\n",
    "import sys\n",
    "import os\n",
    "\n",
    "from nltk.tag import pos_tag\n",
    "from nltk import wordpunct_tokenize\n",
    "from collections import Counter\n",
    "from math import log\n",
    "from os.path import join\n",
    "from html2text import html2text"
   ]
  },
  {
   "cell_type": "code",
   "execution_count": 36,
   "metadata": {
    "collapsed": true
   },
   "outputs": [],
   "source": [
    "import pymorphy2\n",
    "from string import digits\n",
    "morph = pymorphy2.MorphAnalyzer()\n",
    "import math\n",
    "import pandas as pd\n",
    "import collections"
   ]
  },
  {
   "cell_type": "markdown",
   "metadata": {},
   "source": [
    "## Загрузка текста, токенизация, определене POS"
   ]
  },
  {
   "cell_type": "code",
   "execution_count": 20,
   "metadata": {
    "collapsed": true
   },
   "outputs": [],
   "source": [
    "# берем страницу html\n",
    "def get_html(url):\n",
    "    session = requests.session()\n",
    "    html = html5lib.parse(\n",
    "        session.get(url).text,\n",
    "        treebuilder=\"lxml\",\n",
    "        namespaceHTMLElements=False,\n",
    "    ).getroot()\n",
    "    return html"
   ]
  },
  {
   "cell_type": "code",
   "execution_count": 21,
   "metadata": {
    "collapsed": true
   },
   "outputs": [],
   "source": [
    "def get_content(url):\n",
    "    html = requests.get(url).content\n",
    "    return html2text(html.decode('cp1251'))"
   ]
  },
  {
   "cell_type": "code",
   "execution_count": 22,
   "metadata": {
    "collapsed": true
   },
   "outputs": [],
   "source": [
    "# либо берем данные из файла, либо получаем сами и потом сохраняем в файл\n",
    "def save_and_get_data(fname, callback):\n",
    "    try:\n",
    "        with open(fname, 'rb') as bf:\n",
    "            data = pickle.load(bf)\n",
    "    except IOError as ex:\n",
    "        data = callback()\n",
    "        with open(fname, 'wb') as bf:\n",
    "            pickle.dump(data, bf)\n",
    "    return data\n",
    "\n"
   ]
  },
  {
   "cell_type": "code",
   "execution_count": 23,
   "metadata": {
    "collapsed": true
   },
   "outputs": [],
   "source": [
    "def save_result(cnt_obj, fname):\n",
    "    with codecs.open(fname, encoding='utf-8', mode='w') as f:\n",
    "        for elem in cnt_obj.most_common():\n",
    "            f.write(u\"%s %s %s\\n\" % (elem[0][0], elem[0][1], elem[1]))\n",
    "\n"
   ]
  },
  {
   "cell_type": "code",
   "execution_count": 24,
   "metadata": {
    "collapsed": true
   },
   "outputs": [],
   "source": [
    "# Сохраняем просто текст в unicode\n",
    "def save_text(text, fname):\n",
    "    with codecs.open(fname, encoding='utf-8', mode='w') as f:\n",
    "        f.write(text)"
   ]
  },
  {
   "cell_type": "code",
   "execution_count": 25,
   "metadata": {
    "collapsed": false
   },
   "outputs": [],
   "source": [
    "def get_text(urls_xpaths, fname):\n",
    "    def parse():\n",
    "        text = ''\n",
    "        for url in urls_xpaths:\n",
    "            try:\n",
    "                t = get_content(url)\n",
    "            except Exception as ex:\n",
    "                print (ex)\n",
    "            text += t\n",
    "        return text\n",
    "\n",
    "    data = save_and_get_data(fname, parse)\n",
    "    return data"
   ]
  },
  {
   "cell_type": "code",
   "execution_count": 30,
   "metadata": {
    "collapsed": true
   },
   "outputs": [],
   "source": [
    "#Делим текст на отдельные составляющие\n",
    "def f_tokenizer(s):\n",
    "    morph = pymorphy2.MorphAnalyzer()\n",
    "    exclude = set(string.punctuation)\n",
    "    s = ''.join(ch for ch in s if ch not in exclude)\n",
    "    remove_digits = str.maketrans('', '', digits)\n",
    "    s = s.translate(remove_digits)\n",
    "    t = s.split()\n",
    "    \n",
    "    return t"
   ]
  },
  {
   "cell_type": "code",
   "execution_count": 32,
   "metadata": {
    "collapsed": false
   },
   "outputs": [],
   "source": [
    "#Определяем части речи каждого слова\n",
    "def POS(list):\n",
    "    a=[]\n",
    "    for i in list:\n",
    "        a.append(morph.parse(i)[0].tag.POS)\n",
    "    return a\n"
   ]
  },
  {
   "cell_type": "code",
   "execution_count": 33,
   "metadata": {
    "collapsed": true
   },
   "outputs": [],
   "source": [
    "#Ищем n-граммы\n",
    "def find_ngrams(input_list, n):\n",
    "    return list(zip(*[input_list[i:] for i in range(n)]))"
   ]
  },
  {
   "cell_type": "code",
   "execution_count": 50,
   "metadata": {
    "collapsed": false
   },
   "outputs": [],
   "source": [
    "url_xpath_tolstoy = (\n",
    "        # 4 тома \"Война и Мир\"\n",
    "        'http://az.lib.ru/t/tolstoj_lew_nikolaewich/text_0040.shtml',\n",
    "        'http://az.lib.ru/t/tolstoj_lew_nikolaewich/text_0050.shtml',\n",
    "        'http://az.lib.ru/t/tolstoj_lew_nikolaewich/text_0060.shtml',\n",
    "        'http://az.lib.ru/t/tolstoj_lew_nikolaewich/text_0070.shtml',\n",
    "        # Анна Каренина\n",
    "        'http://az.lib.ru/t/tolstoj_lew_nikolaewich/text_0080.shtml',\n",
    "        # Воскресение\n",
    "        'http://az.lib.ru/t/tolstoj_lew_nikolaewich/text_0090.shtml',\n",
    "    )\n"
   ]
  },
  {
   "cell_type": "code",
   "execution_count": 52,
   "metadata": {
    "collapsed": false
   },
   "outputs": [],
   "source": [
    "text_list=f_tokenizer(text)\n",
    "#Составляем словарь частей речи\n",
    "dictionary=dict (zip(text_list,POS(text_list)))\n"
   ]
  },
  {
   "cell_type": "code",
   "execution_count": 51,
   "metadata": {
    "collapsed": false
   },
   "outputs": [],
   "source": [
    "name_dir = 'tolstoy_results'\n",
    "text = get_text(url_xpath_tolstoy, join(name_dir, 'text.pkl'))\n",
    "save_text(text, join(name_dir, 'text.txt'))"
   ]
  },
  {
   "cell_type": "markdown",
   "metadata": {},
   "source": [
    "## Для леммы \"дело\""
   ]
  },
  {
   "cell_type": "code",
   "execution_count": 86,
   "metadata": {
    "collapsed": true
   },
   "outputs": [],
   "source": [
    "def find_colloc(bigrams):\n",
    "    colloc=[]\n",
    "    for i in bigrams:\n",
    "        if (dictionary[i[0]]=='VERB' and dictionary[i[1]]=='NOUN' and i[1] in lemmas) or (dictionary[i[0]]=='ADJF' and dictionary[i[1]]=='NOUN' and i[1] in lemmas):\n",
    "            colloc.append(i)\n",
    "    return colloc"
   ]
  },
  {
   "cell_type": "code",
   "execution_count": 122,
   "metadata": {
    "collapsed": false
   },
   "outputs": [],
   "source": [
    "#Посчитать частоту вхождения нормальной формы каждого слова\n",
    "def freq(text):\n",
    "    count = collections.Counter()\n",
    "    for words in text:\n",
    "        count[morph.parse(words)[0].normal_form] += 1\n",
    "    return count"
   ]
  },
  {
   "cell_type": "code",
   "execution_count": 202,
   "metadata": {
    "collapsed": false
   },
   "outputs": [],
   "source": [
    "#MI measure\n",
    "def mi(pair):\n",
    "    MI=math.log(list_count_collocs[pair]*len(text)/(words_freq_count[pair[0]]*words_freq_count[pair[1]]),2)\n",
    "    if MI>1:\n",
    "        return MI\n",
    "    else:\n",
    "        return 0"
   ]
  },
  {
   "cell_type": "code",
   "execution_count": 188,
   "metadata": {
    "collapsed": false
   },
   "outputs": [],
   "source": [
    "#t-score measure\n",
    "def t_score(pair):\n",
    "    t_sc=(list_count_collocs[pair]-(words_freq_count[pair[0]]*words_freq_count[pair[1]])/len(text))/(math.sqrt(list_count_collocs[pair]))\n",
    "    return t_sc"
   ]
  },
  {
   "cell_type": "code",
   "execution_count": 53,
   "metadata": {
    "collapsed": false
   },
   "outputs": [],
   "source": [
    "#Находим биграммы, среди них - коллокации (с нормальными формами слов), считаем частоту вхождения каждой нормальной формы слова по тексту.\n",
    "bigrams=find_ngrams(text_list, 2)\n",
    "collocs=find_colloc(bigrams)\n",
    "words_freq_count=freq(text_list)"
   ]
  },
  {
   "cell_type": "code",
   "execution_count": 79,
   "metadata": {
    "collapsed": false
   },
   "outputs": [],
   "source": [
    "word='дело'\n",
    "delo = morph.parse(word)[0]\n",
    "lemmas=[delo.lexeme[i].word for i in range (len(delo.lexeme))]\n"
   ]
  },
  {
   "cell_type": "code",
   "execution_count": 129,
   "metadata": {
    "collapsed": false
   },
   "outputs": [],
   "source": [
    "#нормируем коллокации по нормальным формам\n",
    "collocs_normed=[(morph.parse(i[0])[0].normal_form,  morph.parse(i[1])[0].normal_form) for i in collocs]"
   ]
  },
  {
   "cell_type": "code",
   "execution_count": 322,
   "metadata": {
    "collapsed": false
   },
   "outputs": [],
   "source": [
    "#частота встречания коллокаций, совпадабщих по нормам\n",
    "c = collections.Counter()\n",
    "list_count_collocs=Counter(collocs_normed)\n",
    "list_count_collocs_form=Counter(collocs_form)"
   ]
  },
  {
   "cell_type": "code",
   "execution_count": 278,
   "metadata": {
    "collapsed": true
   },
   "outputs": [],
   "source": [
    "coll_mi={}\n",
    "coll_t={}\n",
    "for i in list(list_count_collocs.keys()):\n",
    "    coll_mi[i]=mi(i)\n",
    "    coll_t[i]=t_score(i)"
   ]
  },
  {
   "cell_type": "code",
   "execution_count": 304,
   "metadata": {
    "collapsed": false
   },
   "outputs": [
    {
     "data": {
      "text/html": [
       "<div>\n",
       "<table border=\"1\" class=\"dataframe\">\n",
       "  <thead>\n",
       "    <tr style=\"text-align: right;\">\n",
       "      <th></th>\n",
       "      <th>index</th>\n",
       "      <th>MI</th>\n",
       "      <th>t-score</th>\n",
       "    </tr>\n",
       "  </thead>\n",
       "  <tbody>\n",
       "    <tr>\n",
       "      <th>72</th>\n",
       "      <td>(общежитейский, дело)</td>\n",
       "      <td>11.830388</td>\n",
       "      <td>0.999725</td>\n",
       "    </tr>\n",
       "    <tr>\n",
       "      <th>126</th>\n",
       "      <td>(повестись, дело)</td>\n",
       "      <td>11.830388</td>\n",
       "      <td>0.999725</td>\n",
       "    </tr>\n",
       "    <tr>\n",
       "      <th>89</th>\n",
       "      <td>(душеспасительный, дело)</td>\n",
       "      <td>11.830388</td>\n",
       "      <td>0.999725</td>\n",
       "    </tr>\n",
       "    <tr>\n",
       "      <th>176</th>\n",
       "      <td>(ариергардный, дело)</td>\n",
       "      <td>11.830388</td>\n",
       "      <td>0.999725</td>\n",
       "    </tr>\n",
       "    <tr>\n",
       "      <th>139</th>\n",
       "      <td>(островненский, дело)</td>\n",
       "      <td>11.830388</td>\n",
       "      <td>1.413825</td>\n",
       "    </tr>\n",
       "    <tr>\n",
       "      <th>101</th>\n",
       "      <td>(каменьщический, дело)</td>\n",
       "      <td>11.830388</td>\n",
       "      <td>0.999725</td>\n",
       "    </tr>\n",
       "    <tr>\n",
       "      <th>1</th>\n",
       "      <td>(денежный, дело)</td>\n",
       "      <td>11.119894</td>\n",
       "      <td>3.315134</td>\n",
       "    </tr>\n",
       "    <tr>\n",
       "      <th>98</th>\n",
       "      <td>(шенграбенский, дело)</td>\n",
       "      <td>11.093422</td>\n",
       "      <td>1.731258</td>\n",
       "    </tr>\n",
       "    <tr>\n",
       "      <th>66</th>\n",
       "      <td>(капитальный, дело)</td>\n",
       "      <td>10.830388</td>\n",
       "      <td>0.999451</td>\n",
       "    </tr>\n",
       "    <tr>\n",
       "      <th>65</th>\n",
       "      <td>(бедовый, дело)</td>\n",
       "      <td>10.830388</td>\n",
       "      <td>0.999451</td>\n",
       "    </tr>\n",
       "    <tr>\n",
       "      <th>180</th>\n",
       "      <td>(узнаться, дело)</td>\n",
       "      <td>10.830388</td>\n",
       "      <td>1.413437</td>\n",
       "    </tr>\n",
       "    <tr>\n",
       "      <th>179</th>\n",
       "      <td>(разлюбезный, дело)</td>\n",
       "      <td>10.830388</td>\n",
       "      <td>0.999451</td>\n",
       "    </tr>\n",
       "    <tr>\n",
       "      <th>186</th>\n",
       "      <td>(непредвиденный, дело)</td>\n",
       "      <td>10.830388</td>\n",
       "      <td>0.999451</td>\n",
       "    </tr>\n",
       "    <tr>\n",
       "      <th>175</th>\n",
       "      <td>(практический, дело)</td>\n",
       "      <td>10.306826</td>\n",
       "      <td>2.826194</td>\n",
       "    </tr>\n",
       "    <tr>\n",
       "      <th>151</th>\n",
       "      <td>(опекунский, дело)</td>\n",
       "      <td>10.245425</td>\n",
       "      <td>0.999176</td>\n",
       "    </tr>\n",
       "    <tr>\n",
       "      <th>159</th>\n",
       "      <td>(земледельческий, дело)</td>\n",
       "      <td>10.245425</td>\n",
       "      <td>0.999176</td>\n",
       "    </tr>\n",
       "    <tr>\n",
       "      <th>168</th>\n",
       "      <td>(испанский, дело)</td>\n",
       "      <td>10.023033</td>\n",
       "      <td>1.412854</td>\n",
       "    </tr>\n",
       "    <tr>\n",
       "      <th>160</th>\n",
       "      <td>(будничный, дело)</td>\n",
       "      <td>9.830388</td>\n",
       "      <td>0.998902</td>\n",
       "    </tr>\n",
       "    <tr>\n",
       "      <th>41</th>\n",
       "      <td>(этакий, дело)</td>\n",
       "      <td>9.830388</td>\n",
       "      <td>0.998902</td>\n",
       "    </tr>\n",
       "    <tr>\n",
       "      <th>135</th>\n",
       "      <td>(финансовый, дело)</td>\n",
       "      <td>9.830388</td>\n",
       "      <td>0.998902</td>\n",
       "    </tr>\n",
       "  </tbody>\n",
       "</table>\n",
       "</div>"
      ],
      "text/plain": [
       "                        index         MI   t-score\n",
       "72      (общежитейский, дело)  11.830388  0.999725\n",
       "126         (повестись, дело)  11.830388  0.999725\n",
       "89   (душеспасительный, дело)  11.830388  0.999725\n",
       "176      (ариергардный, дело)  11.830388  0.999725\n",
       "139     (островненский, дело)  11.830388  1.413825\n",
       "101    (каменьщический, дело)  11.830388  0.999725\n",
       "1            (денежный, дело)  11.119894  3.315134\n",
       "98      (шенграбенский, дело)  11.093422  1.731258\n",
       "66        (капитальный, дело)  10.830388  0.999451\n",
       "65            (бедовый, дело)  10.830388  0.999451\n",
       "180          (узнаться, дело)  10.830388  1.413437\n",
       "179       (разлюбезный, дело)  10.830388  0.999451\n",
       "186    (непредвиденный, дело)  10.830388  0.999451\n",
       "175      (практический, дело)  10.306826  2.826194\n",
       "151        (опекунский, дело)  10.245425  0.999176\n",
       "159   (земледельческий, дело)  10.245425  0.999176\n",
       "168         (испанский, дело)  10.023033  1.412854\n",
       "160         (будничный, дело)   9.830388  0.998902\n",
       "41             (этакий, дело)   9.830388  0.998902\n",
       "135        (финансовый, дело)   9.830388  0.998902"
      ]
     },
     "execution_count": 304,
     "metadata": {},
     "output_type": "execute_result"
    }
   ],
   "source": [
    "h1=pd.DataFrame.from_dict(coll_mi,orient='index').rename(columns={0:'MI'}).reset_index()\n",
    "h2=pd.DataFrame.from_dict(coll_t,orient='index').rename(columns={0:'t-score'}).reset_index()\n",
    "h3 = pd.merge(h1,h2,how='inner',on='index')\n",
    "h3=h3.sort_values(['MI'], ascending=False)\n",
    "h3.head(20)"
   ]
  },
  {
   "cell_type": "code",
   "execution_count": 305,
   "metadata": {
    "collapsed": false
   },
   "outputs": [
    {
     "data": {
      "text/html": [
       "<div>\n",
       "<table border=\"1\" class=\"dataframe\">\n",
       "  <thead>\n",
       "    <tr style=\"text-align: right;\">\n",
       "      <th></th>\n",
       "      <th>index</th>\n",
       "      <th>MI</th>\n",
       "      <th>t-score</th>\n",
       "    </tr>\n",
       "  </thead>\n",
       "  <tbody>\n",
       "    <tr>\n",
       "      <th>130</th>\n",
       "      <td>(свой, дело)</td>\n",
       "      <td>5.044179</td>\n",
       "      <td>7.125755</td>\n",
       "    </tr>\n",
       "    <tr>\n",
       "      <th>121</th>\n",
       "      <td>(весь, дело)</td>\n",
       "      <td>4.569091</td>\n",
       "      <td>6.973416</td>\n",
       "    </tr>\n",
       "    <tr>\n",
       "      <th>35</th>\n",
       "      <td>(самый, дело)</td>\n",
       "      <td>6.288494</td>\n",
       "      <td>5.756356</td>\n",
       "    </tr>\n",
       "    <tr>\n",
       "      <th>174</th>\n",
       "      <td>(другой, дело)</td>\n",
       "      <td>5.274465</td>\n",
       "      <td>4.671926</td>\n",
       "    </tr>\n",
       "    <tr>\n",
       "      <th>90</th>\n",
       "      <td>(чистый, дело)</td>\n",
       "      <td>8.733526</td>\n",
       "      <td>4.232673</td>\n",
       "    </tr>\n",
       "    <tr>\n",
       "      <th>86</th>\n",
       "      <td>(общий, дело)</td>\n",
       "      <td>7.370956</td>\n",
       "      <td>4.098197</td>\n",
       "    </tr>\n",
       "    <tr>\n",
       "      <th>163</th>\n",
       "      <td>(ваш, дело)</td>\n",
       "      <td>6.346098</td>\n",
       "      <td>4.072423</td>\n",
       "    </tr>\n",
       "    <tr>\n",
       "      <th>46</th>\n",
       "      <td>(мой, дело)</td>\n",
       "      <td>5.684231</td>\n",
       "      <td>4.042919</td>\n",
       "    </tr>\n",
       "    <tr>\n",
       "      <th>137</th>\n",
       "      <td>(важный, дело)</td>\n",
       "      <td>7.596768</td>\n",
       "      <td>3.979336</td>\n",
       "    </tr>\n",
       "    <tr>\n",
       "      <th>138</th>\n",
       "      <td>(тот, дело)</td>\n",
       "      <td>3.497821</td>\n",
       "      <td>3.973041</td>\n",
       "    </tr>\n",
       "    <tr>\n",
       "      <th>27</th>\n",
       "      <td>(иметь, дело)</td>\n",
       "      <td>5.848820</td>\n",
       "      <td>3.930595</td>\n",
       "    </tr>\n",
       "    <tr>\n",
       "      <th>93</th>\n",
       "      <td>(быть, дело)</td>\n",
       "      <td>2.290744</td>\n",
       "      <td>3.558165</td>\n",
       "    </tr>\n",
       "    <tr>\n",
       "      <th>171</th>\n",
       "      <td>(этот, дело)</td>\n",
       "      <td>3.626166</td>\n",
       "      <td>3.438632</td>\n",
       "    </tr>\n",
       "    <tr>\n",
       "      <th>1</th>\n",
       "      <td>(денежный, дело)</td>\n",
       "      <td>11.119894</td>\n",
       "      <td>3.315134</td>\n",
       "    </tr>\n",
       "    <tr>\n",
       "      <th>161</th>\n",
       "      <td>(наш, дело)</td>\n",
       "      <td>5.818144</td>\n",
       "      <td>3.257841</td>\n",
       "    </tr>\n",
       "    <tr>\n",
       "      <th>5</th>\n",
       "      <td>(какой, дело)</td>\n",
       "      <td>5.292640</td>\n",
       "      <td>3.232009</td>\n",
       "    </tr>\n",
       "    <tr>\n",
       "      <th>133</th>\n",
       "      <td>(такой, дело)</td>\n",
       "      <td>4.528268</td>\n",
       "      <td>3.172893</td>\n",
       "    </tr>\n",
       "    <tr>\n",
       "      <th>39</th>\n",
       "      <td>(государственный, дело)</td>\n",
       "      <td>9.064853</td>\n",
       "      <td>3.156373</td>\n",
       "    </tr>\n",
       "    <tr>\n",
       "      <th>175</th>\n",
       "      <td>(практический, дело)</td>\n",
       "      <td>10.306826</td>\n",
       "      <td>2.826194</td>\n",
       "    </tr>\n",
       "    <tr>\n",
       "      <th>24</th>\n",
       "      <td>(странный, дело)</td>\n",
       "      <td>6.966201</td>\n",
       "      <td>2.805806</td>\n",
       "    </tr>\n",
       "  </tbody>\n",
       "</table>\n",
       "</div>"
      ],
      "text/plain": [
       "                       index         MI   t-score\n",
       "130             (свой, дело)   5.044179  7.125755\n",
       "121             (весь, дело)   4.569091  6.973416\n",
       "35             (самый, дело)   6.288494  5.756356\n",
       "174           (другой, дело)   5.274465  4.671926\n",
       "90            (чистый, дело)   8.733526  4.232673\n",
       "86             (общий, дело)   7.370956  4.098197\n",
       "163              (ваш, дело)   6.346098  4.072423\n",
       "46               (мой, дело)   5.684231  4.042919\n",
       "137           (важный, дело)   7.596768  3.979336\n",
       "138              (тот, дело)   3.497821  3.973041\n",
       "27             (иметь, дело)   5.848820  3.930595\n",
       "93              (быть, дело)   2.290744  3.558165\n",
       "171             (этот, дело)   3.626166  3.438632\n",
       "1           (денежный, дело)  11.119894  3.315134\n",
       "161              (наш, дело)   5.818144  3.257841\n",
       "5              (какой, дело)   5.292640  3.232009\n",
       "133            (такой, дело)   4.528268  3.172893\n",
       "39   (государственный, дело)   9.064853  3.156373\n",
       "175     (практический, дело)  10.306826  2.826194\n",
       "24          (странный, дело)   6.966201  2.805806"
      ]
     },
     "execution_count": 305,
     "metadata": {},
     "output_type": "execute_result"
    }
   ],
   "source": [
    "h4=h3.sort_values(['t-score'], ascending=False)\n",
    "h4.head(20)"
   ]
  },
  {
   "cell_type": "markdown",
   "metadata": {},
   "source": [
    "## Словоформа \"дел\""
   ]
  },
  {
   "cell_type": "code",
   "execution_count": 343,
   "metadata": {
    "collapsed": false
   },
   "outputs": [],
   "source": [
    "def find_colloc_form(bigrams):\n",
    "    colloc=[]\n",
    "    for i in bigrams:\n",
    "        if (dictionary[i[0]]=='VERB' and dictionary[i[1]]=='NOUN' and i[1]=='дел') or (dictionary[i[0]]=='ADJF' and dictionary[i[1]]=='NOUN' and i[1]=='дел'):\n",
    "            colloc.append(i)\n",
    "    return colloc\n",
    "\n"
   ]
  },
  {
   "cell_type": "code",
   "execution_count": 344,
   "metadata": {
    "collapsed": true
   },
   "outputs": [],
   "source": [
    "collocs_form=find_colloc_form(bigrams)\n",
    "words_freq_count_form=Counter(text_list)"
   ]
  },
  {
   "cell_type": "code",
   "execution_count": 347,
   "metadata": {
    "collapsed": false
   },
   "outputs": [],
   "source": [
    "#MI measure\n",
    "def mi_form(pair):\n",
    "    MI=math.log(list_count_collocs_form[pair]*len(text)/(words_freq_count_form[pair[0]]*words_freq_count_form[pair[1]]),2)\n",
    "    if MI>1:\n",
    "        return MI\n",
    "    else:\n",
    "        return 0\n",
    "    \n",
    "#t-score measure\n",
    "def t_score_form(pair):\n",
    "    t_sc=(list_count_collocs_form[pair]-(words_freq_count_form[pair[0]]*words_freq_count_form[pair[1]])/len(text))/(math.sqrt(list_count_collocs_form[pair]))\n",
    "    return t_sc\n",
    "    \n",
    "coll_mi_form={}\n",
    "coll_t_form={}\n",
    "for i in list(list_count_collocs_form.keys()):\n",
    "    coll_mi_form[i]=mi_form(i)\n",
    "    coll_t_form[i]=t_score_form(i)"
   ]
  },
  {
   "cell_type": "code",
   "execution_count": 349,
   "metadata": {
    "collapsed": false
   },
   "outputs": [
    {
     "data": {
      "text/html": [
       "<div>\n",
       "<table border=\"1\" class=\"dataframe\">\n",
       "  <thead>\n",
       "    <tr style=\"text-align: right;\">\n",
       "      <th></th>\n",
       "      <th>index</th>\n",
       "      <th>MI</th>\n",
       "      <th>t-score</th>\n",
       "    </tr>\n",
       "  </thead>\n",
       "  <tbody>\n",
       "    <tr>\n",
       "      <th>0</th>\n",
       "      <td>(этих, дел)</td>\n",
       "      <td>8.886927</td>\n",
       "      <td>1.728392</td>\n",
       "    </tr>\n",
       "    <tr>\n",
       "      <th>10</th>\n",
       "      <td>(иностранных, дел)</td>\n",
       "      <td>15.290649</td>\n",
       "      <td>1.414178</td>\n",
       "    </tr>\n",
       "    <tr>\n",
       "      <th>1</th>\n",
       "      <td>(государственных, дел)</td>\n",
       "      <td>13.483294</td>\n",
       "      <td>1.414090</td>\n",
       "    </tr>\n",
       "    <tr>\n",
       "      <th>16</th>\n",
       "      <td>(всех, дел)</td>\n",
       "      <td>7.457759</td>\n",
       "      <td>1.406169</td>\n",
       "    </tr>\n",
       "    <tr>\n",
       "      <th>13</th>\n",
       "      <td>(общежитейских, дел)</td>\n",
       "      <td>16.290649</td>\n",
       "      <td>0.999988</td>\n",
       "    </tr>\n",
       "    <tr>\n",
       "      <th>17</th>\n",
       "      <td>(судейских, дел)</td>\n",
       "      <td>16.290649</td>\n",
       "      <td>0.999988</td>\n",
       "    </tr>\n",
       "    <tr>\n",
       "      <th>5</th>\n",
       "      <td>(торжественных, дел)</td>\n",
       "      <td>14.705687</td>\n",
       "      <td>0.999963</td>\n",
       "    </tr>\n",
       "    <tr>\n",
       "      <th>14</th>\n",
       "      <td>(ужасных, дел)</td>\n",
       "      <td>13.968721</td>\n",
       "      <td>0.999938</td>\n",
       "    </tr>\n",
       "    <tr>\n",
       "      <th>9</th>\n",
       "      <td>(денежных, дел)</td>\n",
       "      <td>13.968721</td>\n",
       "      <td>0.999938</td>\n",
       "    </tr>\n",
       "    <tr>\n",
       "      <th>11</th>\n",
       "      <td>(внутренних, дел)</td>\n",
       "      <td>13.483294</td>\n",
       "      <td>0.999913</td>\n",
       "    </tr>\n",
       "    <tr>\n",
       "      <th>4</th>\n",
       "      <td>(кончит, дел)</td>\n",
       "      <td>13.290649</td>\n",
       "      <td>0.999900</td>\n",
       "    </tr>\n",
       "    <tr>\n",
       "      <th>12</th>\n",
       "      <td>(семейных, дел)</td>\n",
       "      <td>13.120724</td>\n",
       "      <td>0.999888</td>\n",
       "    </tr>\n",
       "    <tr>\n",
       "      <th>8</th>\n",
       "      <td>(общественных, дел)</td>\n",
       "      <td>12.831217</td>\n",
       "      <td>0.999863</td>\n",
       "    </tr>\n",
       "    <tr>\n",
       "      <th>7</th>\n",
       "      <td>(разнообразных, дел)</td>\n",
       "      <td>12.483294</td>\n",
       "      <td>0.999825</td>\n",
       "    </tr>\n",
       "    <tr>\n",
       "      <th>2</th>\n",
       "      <td>(всяких, дел)</td>\n",
       "      <td>12.203186</td>\n",
       "      <td>0.999788</td>\n",
       "    </tr>\n",
       "    <tr>\n",
       "      <th>3</th>\n",
       "      <td>(новых, дел)</td>\n",
       "      <td>10.203186</td>\n",
       "      <td>0.999152</td>\n",
       "    </tr>\n",
       "    <tr>\n",
       "      <th>6</th>\n",
       "      <td>(таких, дел)</td>\n",
       "      <td>9.301964</td>\n",
       "      <td>0.998416</td>\n",
       "    </tr>\n",
       "    <tr>\n",
       "      <th>15</th>\n",
       "      <td>(имел, дел)</td>\n",
       "      <td>8.675939</td>\n",
       "      <td>0.997555</td>\n",
       "    </tr>\n",
       "  </tbody>\n",
       "</table>\n",
       "</div>"
      ],
      "text/plain": [
       "                     index         MI   t-score\n",
       "0              (этих, дел)   8.886927  1.728392\n",
       "10      (иностранных, дел)  15.290649  1.414178\n",
       "1   (государственных, дел)  13.483294  1.414090\n",
       "16             (всех, дел)   7.457759  1.406169\n",
       "13    (общежитейских, дел)  16.290649  0.999988\n",
       "17        (судейских, дел)  16.290649  0.999988\n",
       "5     (торжественных, дел)  14.705687  0.999963\n",
       "14          (ужасных, дел)  13.968721  0.999938\n",
       "9          (денежных, дел)  13.968721  0.999938\n",
       "11       (внутренних, дел)  13.483294  0.999913\n",
       "4            (кончит, дел)  13.290649  0.999900\n",
       "12         (семейных, дел)  13.120724  0.999888\n",
       "8      (общественных, дел)  12.831217  0.999863\n",
       "7     (разнообразных, дел)  12.483294  0.999825\n",
       "2            (всяких, дел)  12.203186  0.999788\n",
       "3             (новых, дел)  10.203186  0.999152\n",
       "6             (таких, дел)   9.301964  0.998416\n",
       "15             (имел, дел)   8.675939  0.997555"
      ]
     },
     "execution_count": 349,
     "metadata": {},
     "output_type": "execute_result"
    }
   ],
   "source": [
    "h1_form=pd.DataFrame.from_dict(coll_mi_form,orient='index').rename(columns={0:'MI'}).reset_index()\n",
    "h2_form=pd.DataFrame.from_dict(coll_t_form,orient='index').rename(columns={0:'t-score'}).reset_index()\n",
    "h3_form = pd.merge(h1_form,h2_form,how='inner',on='index')\n",
    "h3_form.sort_values(['t-score'], ascending=False)"
   ]
  },
  {
   "cell_type": "markdown",
   "metadata": {},
   "source": [
    "## Заключение."
   ]
  },
  {
   "cell_type": "markdown",
   "metadata": {},
   "source": [
    "Верхние две таблицы - наиболее часто встречающиеся в коллекции текстов коллокации с леммой \"дело\", упорядоченные соответственно по мере ассоциации MI и t-score. Результаты совершенно разные: мера взаимной информации выдала больше определений, являющихся \"чистыми\" прилагательными, эпитетов, отимённых прилагательных. Вполне логично, учитывая редкость встречаемости результатов (ариергардный,шенграбенский), а ведь именно эта переменная стоит в знаменателе выражения для MI.\n",
    "\n",
    "Что касается t-score, заметно обилие местоимённых, притяжательных прилагательных, частота встречаемости оторых отдельно от слова должна быть явно больше.\n",
    "\n",
    "Вариант с словоформой \"дел\" действительно отсёк некоторые коллокативные определения, но это скорее отымённые прилагательные - коллокация, описывающая определённую единицу (снова \"ариергардный\",\"шенграбенский\"), которые не могут возводиться в множественное число.\n",
    "\n",
    "Ещё одно отличие: в качестве синтаксических типов были выбраны  2 типа: прилагательное+существительное и глагол+ существительное. Довольно очевидно, что первая мера ассоциации не выдала пар второго образца, в остальных случаях по две пары попали в списки."
   ]
  },
  {
   "cell_type": "code",
   "execution_count": 205,
   "metadata": {
    "collapsed": false,
    "scrolled": false
   },
   "outputs": [
    {
     "data": {
      "text/plain": [
       "[(('общежитейский', 'дело'), 11.83038763883099),\n",
       " (('душеспасительный', 'дело'), 11.83038763883099),\n",
       " (('каменьщический', 'дело'), 11.83038763883099),\n",
       " (('повестись', 'дело'), 11.83038763883099),\n",
       " (('островненский', 'дело'), 11.83038763883099),\n",
       " (('ариергардный', 'дело'), 11.83038763883099),\n",
       " (('денежный', 'дело'), 11.119894256025976),\n",
       " (('шенграбенский', 'дело'), 11.093422044664784),\n",
       " (('бедовый', 'дело'), 10.83038763883099),\n",
       " (('капитальный', 'дело'), 10.83038763883099),\n",
       " (('разлюбезный', 'дело'), 10.83038763883099),\n",
       " (('узнаться', 'дело'), 10.83038763883099),\n",
       " (('непредвиденный', 'дело'), 10.83038763883099),\n",
       " (('практический', 'дело'), 10.306825682773978),\n",
       " (('опекунский', 'дело'), 10.245425138109834),\n",
       " (('земледельческий', 'дело'), 10.245425138109834),\n",
       " (('испанский', 'дело'), 10.023032716773386),\n",
       " (('будничный', 'дело'), 9.83038763883099),\n",
       " (('этакий', 'дело'), 9.83038763883099),\n",
       " (('финансовый', 'дело'), 9.83038763883099)]"
      ]
     },
     "execution_count": 205,
     "metadata": {},
     "output_type": "execute_result"
    }
   ],
   "source": [
    "Counter(coll_mi).most_common(20)"
   ]
  },
  {
   "cell_type": "code",
   "execution_count": 191,
   "metadata": {
    "collapsed": false
   },
   "outputs": [
    {
     "data": {
      "text/plain": [
       "[(('свой', 'дело'), 7.125755063130326),\n",
       " (('весь', 'дело'), 6.973416449367931),\n",
       " (('самый', 'дело'), 5.756356128644291),\n",
       " (('другой', 'дело'), 4.671925676883667),\n",
       " (('чистый', 'дело'), 4.232673263216997),\n",
       " (('общий', 'дело'), 4.098197238779184),\n",
       " (('ваш', 'дело'), 4.072423052398192),\n",
       " (('мой', 'дело'), 4.042919267987911),\n",
       " (('важный', 'дело'), 3.9793364486099367),\n",
       " (('тот', 'дело'), 3.9730407267306296),\n",
       " (('иметь', 'дело'), 3.9305951812114492),\n",
       " (('быть', 'дело'), 3.5581651957554925),\n",
       " (('этот', 'дело'), 3.4386317828696376),\n",
       " (('денежный', 'дело'), 3.3151344871933976),\n",
       " (('наш', 'дело'), 3.2578406100764306),\n",
       " (('какой', 'дело'), 3.2320086886017285),\n",
       " (('такой', 'дело'), 3.1728933298423145),\n",
       " (('государственный', 'дело'), 3.156372830517938),\n",
       " (('практический', 'дело'), 2.82619416289795),\n",
       " (('странный', 'дело'), 2.80580625037054)]"
      ]
     },
     "execution_count": 191,
     "metadata": {},
     "output_type": "execute_result"
    }
   ],
   "source": [
    "Counter(coll_t).most_common(20)"
   ]
  }
 ],
 "metadata": {
  "kernelspec": {
   "display_name": "Python [default]",
   "language": "python",
   "name": "python3"
  },
  "language_info": {
   "codemirror_mode": {
    "name": "ipython",
    "version": 3
   },
   "file_extension": ".py",
   "mimetype": "text/x-python",
   "name": "python",
   "nbconvert_exporter": "python",
   "pygments_lexer": "ipython3",
   "version": "3.5.2"
  }
 },
 "nbformat": 4,
 "nbformat_minor": 1
}
